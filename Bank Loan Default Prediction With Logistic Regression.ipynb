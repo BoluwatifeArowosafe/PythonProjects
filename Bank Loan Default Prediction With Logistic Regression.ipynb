{
 "cells": [
  {
   "cell_type": "markdown",
   "id": "f4d0d7e0",
   "metadata": {},
   "source": [
    "# Bank Loan Default  Prediction With Binomial Logistic Regression"
   ]
  },
  {
   "cell_type": "markdown",
   "id": "47a58d83",
   "metadata": {},
   "source": [
    "## Introduction\n",
    "\n",
    "Logistic regression is a technique for categorical prediction tasks. Binomial Logistic regression is a technique that models the probability of an  of observations falling into one of two categories based on one or more indepent variables. \n",
    "\n",
    "## Project Description\n",
    "\n",
    "The goal of this project is to build a predictive model using binomial logistic regression to classify whether a bank loan will be Fully Paid or Charged Off. We will use various features from a bank loan dataset, such as the customer's loan status, loan amount, credit score, annual income, and other financial indicators. The primary focus is to predict the likelihood of a customer defaulting on a loan."
   ]
  },
  {
   "cell_type": "markdown",
   "id": "8ec8bbe6",
   "metadata": {},
   "source": [
    "## Importing Libraries"
   ]
  },
  {
   "cell_type": "code",
   "execution_count": 1,
   "id": "1bef6cfa",
   "metadata": {},
   "outputs": [],
   "source": [
    "# Import relevant packages\n",
    "\n",
    "import numpy as np\n",
    "import pandas as pd\n",
    "\n",
    "from sklearn.model_selection import train_test_split\n",
    "from sklearn.linear_model import LogisticRegression\n",
    "import sklearn.metrics as metrics\n",
    "from sklearn.metrics import recall_score, precision_score, f1_score, accuracy_score\n",
    "from sklearn.metrics import confusion_matrix, ConfusionMatrixDisplay\n",
    "\n",
    "import matplotlib.pyplot as plt\n",
    "import seaborn as sns"
   ]
  },
  {
   "cell_type": "markdown",
   "id": "20387ceb",
   "metadata": {},
   "source": [
    "## Loading Data"
   ]
  },
  {
   "cell_type": "code",
   "execution_count": 2,
   "id": "4de7e6ca",
   "metadata": {},
   "outputs": [],
   "source": [
    "# Load the data into a DataFrame\n",
    "\n",
    "data = pd.read_csv('credit_train.csv')"
   ]
  },
  {
   "cell_type": "code",
   "execution_count": 3,
   "id": "79a3119e",
   "metadata": {},
   "outputs": [
    {
     "data": {
      "text/html": [
       "<div>\n",
       "<style scoped>\n",
       "    .dataframe tbody tr th:only-of-type {\n",
       "        vertical-align: middle;\n",
       "    }\n",
       "\n",
       "    .dataframe tbody tr th {\n",
       "        vertical-align: top;\n",
       "    }\n",
       "\n",
       "    .dataframe thead th {\n",
       "        text-align: right;\n",
       "    }\n",
       "</style>\n",
       "<table border=\"1\" class=\"dataframe\">\n",
       "  <thead>\n",
       "    <tr style=\"text-align: right;\">\n",
       "      <th></th>\n",
       "      <th>Loan ID</th>\n",
       "      <th>Customer ID</th>\n",
       "      <th>Loan Status</th>\n",
       "      <th>Current Loan Amount</th>\n",
       "      <th>Term</th>\n",
       "      <th>Credit Score</th>\n",
       "      <th>Annual Income</th>\n",
       "      <th>Years in current job</th>\n",
       "      <th>Home Ownership</th>\n",
       "      <th>Purpose</th>\n",
       "      <th>Monthly Debt</th>\n",
       "      <th>Years of Credit History</th>\n",
       "      <th>Months since last delinquent</th>\n",
       "      <th>Number of Open Accounts</th>\n",
       "      <th>Number of Credit Problems</th>\n",
       "      <th>Current Credit Balance</th>\n",
       "      <th>Maximum Open Credit</th>\n",
       "      <th>Bankruptcies</th>\n",
       "      <th>Tax Liens</th>\n",
       "    </tr>\n",
       "  </thead>\n",
       "  <tbody>\n",
       "    <tr>\n",
       "      <th>0</th>\n",
       "      <td>14dd8831-6af5-400b-83ec-68e61888a048</td>\n",
       "      <td>981165ec-3274-42f5-a3b4-d104041a9ca9</td>\n",
       "      <td>Fully Paid</td>\n",
       "      <td>445412.0</td>\n",
       "      <td>Short Term</td>\n",
       "      <td>709.0</td>\n",
       "      <td>1167493.0</td>\n",
       "      <td>8 years</td>\n",
       "      <td>Home Mortgage</td>\n",
       "      <td>Home Improvements</td>\n",
       "      <td>5214.74</td>\n",
       "      <td>17.2</td>\n",
       "      <td>NaN</td>\n",
       "      <td>6.0</td>\n",
       "      <td>1.0</td>\n",
       "      <td>228190.0</td>\n",
       "      <td>416746.0</td>\n",
       "      <td>1.0</td>\n",
       "      <td>0.0</td>\n",
       "    </tr>\n",
       "    <tr>\n",
       "      <th>1</th>\n",
       "      <td>4771cc26-131a-45db-b5aa-537ea4ba5342</td>\n",
       "      <td>2de017a3-2e01-49cb-a581-08169e83be29</td>\n",
       "      <td>Fully Paid</td>\n",
       "      <td>262328.0</td>\n",
       "      <td>Short Term</td>\n",
       "      <td>NaN</td>\n",
       "      <td>NaN</td>\n",
       "      <td>10+ years</td>\n",
       "      <td>Home Mortgage</td>\n",
       "      <td>Debt Consolidation</td>\n",
       "      <td>33295.98</td>\n",
       "      <td>21.1</td>\n",
       "      <td>8.0</td>\n",
       "      <td>35.0</td>\n",
       "      <td>0.0</td>\n",
       "      <td>229976.0</td>\n",
       "      <td>850784.0</td>\n",
       "      <td>0.0</td>\n",
       "      <td>0.0</td>\n",
       "    </tr>\n",
       "    <tr>\n",
       "      <th>2</th>\n",
       "      <td>4eed4e6a-aa2f-4c91-8651-ce984ee8fb26</td>\n",
       "      <td>5efb2b2b-bf11-4dfd-a572-3761a2694725</td>\n",
       "      <td>Fully Paid</td>\n",
       "      <td>99999999.0</td>\n",
       "      <td>Short Term</td>\n",
       "      <td>741.0</td>\n",
       "      <td>2231892.0</td>\n",
       "      <td>8 years</td>\n",
       "      <td>Own Home</td>\n",
       "      <td>Debt Consolidation</td>\n",
       "      <td>29200.53</td>\n",
       "      <td>14.9</td>\n",
       "      <td>29.0</td>\n",
       "      <td>18.0</td>\n",
       "      <td>1.0</td>\n",
       "      <td>297996.0</td>\n",
       "      <td>750090.0</td>\n",
       "      <td>0.0</td>\n",
       "      <td>0.0</td>\n",
       "    </tr>\n",
       "    <tr>\n",
       "      <th>3</th>\n",
       "      <td>77598f7b-32e7-4e3b-a6e5-06ba0d98fe8a</td>\n",
       "      <td>e777faab-98ae-45af-9a86-7ce5b33b1011</td>\n",
       "      <td>Fully Paid</td>\n",
       "      <td>347666.0</td>\n",
       "      <td>Long Term</td>\n",
       "      <td>721.0</td>\n",
       "      <td>806949.0</td>\n",
       "      <td>3 years</td>\n",
       "      <td>Own Home</td>\n",
       "      <td>Debt Consolidation</td>\n",
       "      <td>8741.90</td>\n",
       "      <td>12.0</td>\n",
       "      <td>NaN</td>\n",
       "      <td>9.0</td>\n",
       "      <td>0.0</td>\n",
       "      <td>256329.0</td>\n",
       "      <td>386958.0</td>\n",
       "      <td>0.0</td>\n",
       "      <td>0.0</td>\n",
       "    </tr>\n",
       "    <tr>\n",
       "      <th>4</th>\n",
       "      <td>d4062e70-befa-4995-8643-a0de73938182</td>\n",
       "      <td>81536ad9-5ccf-4eb8-befb-47a4d608658e</td>\n",
       "      <td>Fully Paid</td>\n",
       "      <td>176220.0</td>\n",
       "      <td>Short Term</td>\n",
       "      <td>NaN</td>\n",
       "      <td>NaN</td>\n",
       "      <td>5 years</td>\n",
       "      <td>Rent</td>\n",
       "      <td>Debt Consolidation</td>\n",
       "      <td>20639.70</td>\n",
       "      <td>6.1</td>\n",
       "      <td>NaN</td>\n",
       "      <td>15.0</td>\n",
       "      <td>0.0</td>\n",
       "      <td>253460.0</td>\n",
       "      <td>427174.0</td>\n",
       "      <td>0.0</td>\n",
       "      <td>0.0</td>\n",
       "    </tr>\n",
       "    <tr>\n",
       "      <th>5</th>\n",
       "      <td>89d8cb0c-e5c2-4f54-b056-48a645c543dd</td>\n",
       "      <td>4ffe99d3-7f2a-44db-afc1-40943f1f9750</td>\n",
       "      <td>Charged Off</td>\n",
       "      <td>206602.0</td>\n",
       "      <td>Short Term</td>\n",
       "      <td>7290.0</td>\n",
       "      <td>896857.0</td>\n",
       "      <td>10+ years</td>\n",
       "      <td>Home Mortgage</td>\n",
       "      <td>Debt Consolidation</td>\n",
       "      <td>16367.74</td>\n",
       "      <td>17.3</td>\n",
       "      <td>NaN</td>\n",
       "      <td>6.0</td>\n",
       "      <td>0.0</td>\n",
       "      <td>215308.0</td>\n",
       "      <td>272448.0</td>\n",
       "      <td>0.0</td>\n",
       "      <td>0.0</td>\n",
       "    </tr>\n",
       "    <tr>\n",
       "      <th>6</th>\n",
       "      <td>273581de-85d8-4332-81a5-19b04ce68666</td>\n",
       "      <td>90a75dde-34d5-419c-90dc-1e58b04b3e35</td>\n",
       "      <td>Fully Paid</td>\n",
       "      <td>217646.0</td>\n",
       "      <td>Short Term</td>\n",
       "      <td>730.0</td>\n",
       "      <td>1184194.0</td>\n",
       "      <td>&lt; 1 year</td>\n",
       "      <td>Home Mortgage</td>\n",
       "      <td>Debt Consolidation</td>\n",
       "      <td>10855.08</td>\n",
       "      <td>19.6</td>\n",
       "      <td>10.0</td>\n",
       "      <td>13.0</td>\n",
       "      <td>1.0</td>\n",
       "      <td>122170.0</td>\n",
       "      <td>272052.0</td>\n",
       "      <td>1.0</td>\n",
       "      <td>0.0</td>\n",
       "    </tr>\n",
       "    <tr>\n",
       "      <th>7</th>\n",
       "      <td>db0dc6e1-77ee-4826-acca-772f9039e1c7</td>\n",
       "      <td>018973c9-e316-4956-b363-67e134fb0931</td>\n",
       "      <td>Charged Off</td>\n",
       "      <td>648714.0</td>\n",
       "      <td>Long Term</td>\n",
       "      <td>NaN</td>\n",
       "      <td>NaN</td>\n",
       "      <td>&lt; 1 year</td>\n",
       "      <td>Home Mortgage</td>\n",
       "      <td>Buy House</td>\n",
       "      <td>14806.13</td>\n",
       "      <td>8.2</td>\n",
       "      <td>8.0</td>\n",
       "      <td>15.0</td>\n",
       "      <td>0.0</td>\n",
       "      <td>193306.0</td>\n",
       "      <td>864204.0</td>\n",
       "      <td>0.0</td>\n",
       "      <td>0.0</td>\n",
       "    </tr>\n",
       "    <tr>\n",
       "      <th>8</th>\n",
       "      <td>8af915d9-9e91-44a0-b5a2-564a45c12089</td>\n",
       "      <td>af534dea-d27e-4fd6-9de8-efaa52a78ec0</td>\n",
       "      <td>Fully Paid</td>\n",
       "      <td>548746.0</td>\n",
       "      <td>Short Term</td>\n",
       "      <td>678.0</td>\n",
       "      <td>2559110.0</td>\n",
       "      <td>2 years</td>\n",
       "      <td>Rent</td>\n",
       "      <td>Debt Consolidation</td>\n",
       "      <td>18660.28</td>\n",
       "      <td>22.6</td>\n",
       "      <td>33.0</td>\n",
       "      <td>4.0</td>\n",
       "      <td>0.0</td>\n",
       "      <td>437171.0</td>\n",
       "      <td>555038.0</td>\n",
       "      <td>0.0</td>\n",
       "      <td>0.0</td>\n",
       "    </tr>\n",
       "    <tr>\n",
       "      <th>9</th>\n",
       "      <td>0b1c4e3d-bd97-45ce-9622-22732fcdc9a0</td>\n",
       "      <td>235c4a43-dadf-483d-aa44-9d6d77ae4583</td>\n",
       "      <td>Fully Paid</td>\n",
       "      <td>215952.0</td>\n",
       "      <td>Short Term</td>\n",
       "      <td>739.0</td>\n",
       "      <td>1454735.0</td>\n",
       "      <td>&lt; 1 year</td>\n",
       "      <td>Rent</td>\n",
       "      <td>Debt Consolidation</td>\n",
       "      <td>39277.75</td>\n",
       "      <td>13.9</td>\n",
       "      <td>NaN</td>\n",
       "      <td>20.0</td>\n",
       "      <td>0.0</td>\n",
       "      <td>669560.0</td>\n",
       "      <td>1021460.0</td>\n",
       "      <td>0.0</td>\n",
       "      <td>0.0</td>\n",
       "    </tr>\n",
       "  </tbody>\n",
       "</table>\n",
       "</div>"
      ],
      "text/plain": [
       "                                Loan ID                           Customer ID  \\\n",
       "0  14dd8831-6af5-400b-83ec-68e61888a048  981165ec-3274-42f5-a3b4-d104041a9ca9   \n",
       "1  4771cc26-131a-45db-b5aa-537ea4ba5342  2de017a3-2e01-49cb-a581-08169e83be29   \n",
       "2  4eed4e6a-aa2f-4c91-8651-ce984ee8fb26  5efb2b2b-bf11-4dfd-a572-3761a2694725   \n",
       "3  77598f7b-32e7-4e3b-a6e5-06ba0d98fe8a  e777faab-98ae-45af-9a86-7ce5b33b1011   \n",
       "4  d4062e70-befa-4995-8643-a0de73938182  81536ad9-5ccf-4eb8-befb-47a4d608658e   \n",
       "5  89d8cb0c-e5c2-4f54-b056-48a645c543dd  4ffe99d3-7f2a-44db-afc1-40943f1f9750   \n",
       "6  273581de-85d8-4332-81a5-19b04ce68666  90a75dde-34d5-419c-90dc-1e58b04b3e35   \n",
       "7  db0dc6e1-77ee-4826-acca-772f9039e1c7  018973c9-e316-4956-b363-67e134fb0931   \n",
       "8  8af915d9-9e91-44a0-b5a2-564a45c12089  af534dea-d27e-4fd6-9de8-efaa52a78ec0   \n",
       "9  0b1c4e3d-bd97-45ce-9622-22732fcdc9a0  235c4a43-dadf-483d-aa44-9d6d77ae4583   \n",
       "\n",
       "   Loan Status  Current Loan Amount        Term  Credit Score  Annual Income  \\\n",
       "0   Fully Paid             445412.0  Short Term         709.0      1167493.0   \n",
       "1   Fully Paid             262328.0  Short Term           NaN            NaN   \n",
       "2   Fully Paid           99999999.0  Short Term         741.0      2231892.0   \n",
       "3   Fully Paid             347666.0   Long Term         721.0       806949.0   \n",
       "4   Fully Paid             176220.0  Short Term           NaN            NaN   \n",
       "5  Charged Off             206602.0  Short Term        7290.0       896857.0   \n",
       "6   Fully Paid             217646.0  Short Term         730.0      1184194.0   \n",
       "7  Charged Off             648714.0   Long Term           NaN            NaN   \n",
       "8   Fully Paid             548746.0  Short Term         678.0      2559110.0   \n",
       "9   Fully Paid             215952.0  Short Term         739.0      1454735.0   \n",
       "\n",
       "  Years in current job Home Ownership             Purpose  Monthly Debt  \\\n",
       "0              8 years  Home Mortgage   Home Improvements       5214.74   \n",
       "1            10+ years  Home Mortgage  Debt Consolidation      33295.98   \n",
       "2              8 years       Own Home  Debt Consolidation      29200.53   \n",
       "3              3 years       Own Home  Debt Consolidation       8741.90   \n",
       "4              5 years           Rent  Debt Consolidation      20639.70   \n",
       "5            10+ years  Home Mortgage  Debt Consolidation      16367.74   \n",
       "6             < 1 year  Home Mortgage  Debt Consolidation      10855.08   \n",
       "7             < 1 year  Home Mortgage           Buy House      14806.13   \n",
       "8              2 years           Rent  Debt Consolidation      18660.28   \n",
       "9             < 1 year           Rent  Debt Consolidation      39277.75   \n",
       "\n",
       "   Years of Credit History  Months since last delinquent  \\\n",
       "0                     17.2                           NaN   \n",
       "1                     21.1                           8.0   \n",
       "2                     14.9                          29.0   \n",
       "3                     12.0                           NaN   \n",
       "4                      6.1                           NaN   \n",
       "5                     17.3                           NaN   \n",
       "6                     19.6                          10.0   \n",
       "7                      8.2                           8.0   \n",
       "8                     22.6                          33.0   \n",
       "9                     13.9                           NaN   \n",
       "\n",
       "   Number of Open Accounts  Number of Credit Problems  Current Credit Balance  \\\n",
       "0                      6.0                        1.0                228190.0   \n",
       "1                     35.0                        0.0                229976.0   \n",
       "2                     18.0                        1.0                297996.0   \n",
       "3                      9.0                        0.0                256329.0   \n",
       "4                     15.0                        0.0                253460.0   \n",
       "5                      6.0                        0.0                215308.0   \n",
       "6                     13.0                        1.0                122170.0   \n",
       "7                     15.0                        0.0                193306.0   \n",
       "8                      4.0                        0.0                437171.0   \n",
       "9                     20.0                        0.0                669560.0   \n",
       "\n",
       "   Maximum Open Credit  Bankruptcies  Tax Liens  \n",
       "0             416746.0           1.0        0.0  \n",
       "1             850784.0           0.0        0.0  \n",
       "2             750090.0           0.0        0.0  \n",
       "3             386958.0           0.0        0.0  \n",
       "4             427174.0           0.0        0.0  \n",
       "5             272448.0           0.0        0.0  \n",
       "6             272052.0           1.0        0.0  \n",
       "7             864204.0           0.0        0.0  \n",
       "8             555038.0           0.0        0.0  \n",
       "9            1021460.0           0.0        0.0  "
      ]
     },
     "execution_count": 3,
     "metadata": {},
     "output_type": "execute_result"
    }
   ],
   "source": [
    "# Display the first 10 rows of the data\n",
    "\n",
    "data.head(10)"
   ]
  },
  {
   "cell_type": "markdown",
   "id": "045395bf",
   "metadata": {},
   "source": [
    "## Data Preprocessing"
   ]
  },
  {
   "cell_type": "code",
   "execution_count": 4,
   "id": "63c92ba9",
   "metadata": {},
   "outputs": [
    {
     "data": {
      "text/plain": [
       "Loan ID                         514\n",
       "Customer ID                     514\n",
       "Loan Status                     514\n",
       "Current Loan Amount             514\n",
       "Term                            514\n",
       "Credit Score                    514\n",
       "Annual Income                   514\n",
       "Years in current job            514\n",
       "Home Ownership                  514\n",
       "Purpose                         514\n",
       "Monthly Debt                    514\n",
       "Years of Credit History         514\n",
       "Months since last delinquent    514\n",
       "Number of Open Accounts         514\n",
       "Number of Credit Problems       514\n",
       "Current Credit Balance          514\n",
       "Maximum Open Credit             514\n",
       "Bankruptcies                    514\n",
       "Tax Liens                       514\n",
       "dtype: int64"
      ]
     },
     "execution_count": 4,
     "metadata": {},
     "output_type": "execute_result"
    }
   ],
   "source": [
    "# select rows starting from index 100,000 onward\n",
    "tail_nan = data.iloc[100000:]\n",
    "\n",
    "# count the total number of missing values in the selected rows\n",
    "tail_nan.isna().sum()"
   ]
  },
  {
   "cell_type": "markdown",
   "id": "82f11658",
   "metadata": {},
   "source": [
    "The last 514 rows contain missing values, so we have to drop them."
   ]
  },
  {
   "cell_type": "code",
   "execution_count": 5,
   "id": "1392a275",
   "metadata": {},
   "outputs": [],
   "source": [
    "# Drop the last 514 rows from the data\n",
    "\n",
    "data.drop(data.tail(514).index, inplace=True)"
   ]
  },
  {
   "cell_type": "code",
   "execution_count": 6,
   "id": "524175bd",
   "metadata": {},
   "outputs": [
    {
     "name": "stdout",
     "output_type": "stream",
     "text": [
      "<class 'pandas.core.frame.DataFrame'>\n",
      "RangeIndex: 100000 entries, 0 to 99999\n",
      "Data columns (total 19 columns):\n",
      " #   Column                        Non-Null Count   Dtype  \n",
      "---  ------                        --------------   -----  \n",
      " 0   Loan ID                       100000 non-null  object \n",
      " 1   Customer ID                   100000 non-null  object \n",
      " 2   Loan Status                   100000 non-null  object \n",
      " 3   Current Loan Amount           100000 non-null  float64\n",
      " 4   Term                          100000 non-null  object \n",
      " 5   Credit Score                  80846 non-null   float64\n",
      " 6   Annual Income                 80846 non-null   float64\n",
      " 7   Years in current job          95778 non-null   object \n",
      " 8   Home Ownership                100000 non-null  object \n",
      " 9   Purpose                       100000 non-null  object \n",
      " 10  Monthly Debt                  100000 non-null  float64\n",
      " 11  Years of Credit History       100000 non-null  float64\n",
      " 12  Months since last delinquent  46859 non-null   float64\n",
      " 13  Number of Open Accounts       100000 non-null  float64\n",
      " 14  Number of Credit Problems     100000 non-null  float64\n",
      " 15  Current Credit Balance        100000 non-null  float64\n",
      " 16  Maximum Open Credit           99998 non-null   float64\n",
      " 17  Bankruptcies                  99796 non-null   float64\n",
      " 18  Tax Liens                     99990 non-null   float64\n",
      "dtypes: float64(12), object(7)\n",
      "memory usage: 14.5+ MB\n"
     ]
    }
   ],
   "source": [
    "# Display summary of the DataFrame\n",
    "\n",
    "data.info()"
   ]
  },
  {
   "cell_type": "code",
   "execution_count": 7,
   "id": "c0cc7164",
   "metadata": {},
   "outputs": [
    {
     "data": {
      "text/plain": [
       "Loan ID                         81999\n",
       "Customer ID                     81999\n",
       "Loan Status                         2\n",
       "Current Loan Amount             22004\n",
       "Term                                2\n",
       "Credit Score                      324\n",
       "Annual Income                   36174\n",
       "Years in current job               11\n",
       "Home Ownership                      4\n",
       "Purpose                            16\n",
       "Monthly Debt                    65765\n",
       "Years of Credit History           506\n",
       "Months since last delinquent      116\n",
       "Number of Open Accounts            51\n",
       "Number of Credit Problems          14\n",
       "Current Credit Balance          32730\n",
       "Maximum Open Credit             44596\n",
       "Bankruptcies                        8\n",
       "Tax Liens                          12\n",
       "dtype: int64"
      ]
     },
     "execution_count": 7,
     "metadata": {},
     "output_type": "execute_result"
    }
   ],
   "source": [
    "# Display the count of unique entries in each column\n",
    "\n",
    "data.nunique()"
   ]
  },
  {
   "cell_type": "code",
   "execution_count": 8,
   "id": "afea03c4",
   "metadata": {},
   "outputs": [
    {
     "data": {
      "text/html": [
       "<div>\n",
       "<style scoped>\n",
       "    .dataframe tbody tr th:only-of-type {\n",
       "        vertical-align: middle;\n",
       "    }\n",
       "\n",
       "    .dataframe tbody tr th {\n",
       "        vertical-align: top;\n",
       "    }\n",
       "\n",
       "    .dataframe thead th {\n",
       "        text-align: right;\n",
       "    }\n",
       "</style>\n",
       "<table border=\"1\" class=\"dataframe\">\n",
       "  <thead>\n",
       "    <tr style=\"text-align: right;\">\n",
       "      <th></th>\n",
       "      <th>Total</th>\n",
       "      <th>Percent</th>\n",
       "    </tr>\n",
       "  </thead>\n",
       "  <tbody>\n",
       "    <tr>\n",
       "      <th>Months since last delinquent</th>\n",
       "      <td>53141</td>\n",
       "      <td>0.53141</td>\n",
       "    </tr>\n",
       "    <tr>\n",
       "      <th>Credit Score</th>\n",
       "      <td>19154</td>\n",
       "      <td>0.19154</td>\n",
       "    </tr>\n",
       "    <tr>\n",
       "      <th>Annual Income</th>\n",
       "      <td>19154</td>\n",
       "      <td>0.19154</td>\n",
       "    </tr>\n",
       "    <tr>\n",
       "      <th>Years in current job</th>\n",
       "      <td>4222</td>\n",
       "      <td>0.04222</td>\n",
       "    </tr>\n",
       "    <tr>\n",
       "      <th>Bankruptcies</th>\n",
       "      <td>204</td>\n",
       "      <td>0.00204</td>\n",
       "    </tr>\n",
       "    <tr>\n",
       "      <th>Tax Liens</th>\n",
       "      <td>10</td>\n",
       "      <td>0.00010</td>\n",
       "    </tr>\n",
       "    <tr>\n",
       "      <th>Maximum Open Credit</th>\n",
       "      <td>2</td>\n",
       "      <td>0.00002</td>\n",
       "    </tr>\n",
       "    <tr>\n",
       "      <th>Years of Credit History</th>\n",
       "      <td>0</td>\n",
       "      <td>0.00000</td>\n",
       "    </tr>\n",
       "    <tr>\n",
       "      <th>Current Credit Balance</th>\n",
       "      <td>0</td>\n",
       "      <td>0.00000</td>\n",
       "    </tr>\n",
       "    <tr>\n",
       "      <th>Number of Credit Problems</th>\n",
       "      <td>0</td>\n",
       "      <td>0.00000</td>\n",
       "    </tr>\n",
       "    <tr>\n",
       "      <th>Number of Open Accounts</th>\n",
       "      <td>0</td>\n",
       "      <td>0.00000</td>\n",
       "    </tr>\n",
       "    <tr>\n",
       "      <th>Loan ID</th>\n",
       "      <td>0</td>\n",
       "      <td>0.00000</td>\n",
       "    </tr>\n",
       "    <tr>\n",
       "      <th>Monthly Debt</th>\n",
       "      <td>0</td>\n",
       "      <td>0.00000</td>\n",
       "    </tr>\n",
       "    <tr>\n",
       "      <th>Customer ID</th>\n",
       "      <td>0</td>\n",
       "      <td>0.00000</td>\n",
       "    </tr>\n",
       "    <tr>\n",
       "      <th>Home Ownership</th>\n",
       "      <td>0</td>\n",
       "      <td>0.00000</td>\n",
       "    </tr>\n",
       "    <tr>\n",
       "      <th>Term</th>\n",
       "      <td>0</td>\n",
       "      <td>0.00000</td>\n",
       "    </tr>\n",
       "    <tr>\n",
       "      <th>Current Loan Amount</th>\n",
       "      <td>0</td>\n",
       "      <td>0.00000</td>\n",
       "    </tr>\n",
       "    <tr>\n",
       "      <th>Loan Status</th>\n",
       "      <td>0</td>\n",
       "      <td>0.00000</td>\n",
       "    </tr>\n",
       "    <tr>\n",
       "      <th>Purpose</th>\n",
       "      <td>0</td>\n",
       "      <td>0.00000</td>\n",
       "    </tr>\n",
       "  </tbody>\n",
       "</table>\n",
       "</div>"
      ],
      "text/plain": [
       "                              Total  Percent\n",
       "Months since last delinquent  53141  0.53141\n",
       "Credit Score                  19154  0.19154\n",
       "Annual Income                 19154  0.19154\n",
       "Years in current job           4222  0.04222\n",
       "Bankruptcies                    204  0.00204\n",
       "Tax Liens                        10  0.00010\n",
       "Maximum Open Credit               2  0.00002\n",
       "Years of Credit History           0  0.00000\n",
       "Current Credit Balance            0  0.00000\n",
       "Number of Credit Problems         0  0.00000\n",
       "Number of Open Accounts           0  0.00000\n",
       "Loan ID                           0  0.00000\n",
       "Monthly Debt                      0  0.00000\n",
       "Customer ID                       0  0.00000\n",
       "Home Ownership                    0  0.00000\n",
       "Term                              0  0.00000\n",
       "Current Loan Amount               0  0.00000\n",
       "Loan Status                       0  0.00000\n",
       "Purpose                           0  0.00000"
      ]
     },
     "execution_count": 8,
     "metadata": {},
     "output_type": "execute_result"
    }
   ],
   "source": [
    "# count the total number of missing values in each column\n",
    "\n",
    "Total = data.isna().sum().sort_values(ascending=False)\n",
    "\n",
    "#Calculate the percentage of missing values in each column\n",
    "\n",
    "Percent = (data.isna().sum() / len(data)).sort_values(ascending=False)\n",
    "\n",
    "missing_data = pd.concat([Total, Percent], axis=1, keys=['Total', 'Percent'])\n",
    "missing_data.head(20)"
   ]
  },
  {
   "cell_type": "code",
   "execution_count": 9,
   "id": "70442ba5",
   "metadata": {},
   "outputs": [],
   "source": [
    "# Drop Month since last delinquent since it has 50% missing values, and drop loan ID and customer ID columns\n",
    "\n",
    "data.drop(columns=['Months since last delinquent', 'Loan ID', 'Customer ID'],axis=1, inplace=True)"
   ]
  },
  {
   "cell_type": "code",
   "execution_count": 10,
   "id": "d1700c9f",
   "metadata": {},
   "outputs": [],
   "source": [
    "# filling missing values in credit score and annual income with mean\n",
    "\n",
    "data['Credit Score'].fillna(data['Credit Score'].mean(), inplace=True)\n",
    "data['Annual Income'].fillna(data['Annual Income'].mean(), inplace=True)"
   ]
  },
  {
   "cell_type": "code",
   "execution_count": 11,
   "id": "646b7467",
   "metadata": {},
   "outputs": [],
   "source": [
    "# fill missing values in Maximum Open Credit,Bankruptcies and Tax Liens with zero\n",
    "\n",
    "data['Maximum Open Credit'].fillna(0, inplace = True)\n",
    "\n",
    "data['Bankruptcies'].fillna(0, inplace = True)\n",
    "\n",
    "data['Tax Liens'].fillna(0, inplace = True)"
   ]
  },
  {
   "cell_type": "code",
   "execution_count": 12,
   "id": "16b3ce54",
   "metadata": {},
   "outputs": [
    {
     "data": {
      "text/plain": [
       "array(['Home Mortgage', 'Own Home', 'Rent', 'HaveMortgage'], dtype=object)"
      ]
     },
     "execution_count": 12,
     "metadata": {},
     "output_type": "execute_result"
    }
   ],
   "source": [
    "# Display unique values in Home ownership column\n",
    "\n",
    "data['Home Ownership'].unique()"
   ]
  },
  {
   "cell_type": "code",
   "execution_count": 13,
   "id": "19680bf5",
   "metadata": {},
   "outputs": [],
   "source": [
    "# Home Mortgage and HaveMortgage mean the same thing\n",
    "\n",
    "data['Home Ownership'].replace('HaveMortgage', 'Home Mortgage', inplace=True)"
   ]
  },
  {
   "cell_type": "code",
   "execution_count": 14,
   "id": "ba7b284f",
   "metadata": {},
   "outputs": [
    {
     "data": {
      "text/plain": [
       "array(['Home Improvements', 'Debt Consolidation', 'Buy House', 'other',\n",
       "       'Business Loan', 'Buy a Car', 'major_purchase', 'Take a Trip',\n",
       "       'Other', 'small_business', 'Medical Bills', 'wedding', 'vacation',\n",
       "       'Educational Expenses', 'moving', 'renewable_energy'], dtype=object)"
      ]
     },
     "execution_count": 14,
     "metadata": {},
     "output_type": "execute_result"
    }
   ],
   "source": [
    "# Display unique values in Purpose column\n",
    "\n",
    "data['Purpose'].unique()"
   ]
  },
  {
   "cell_type": "code",
   "execution_count": 15,
   "id": "7857729e",
   "metadata": {},
   "outputs": [],
   "source": [
    "# Replace values in the 'Purpose' column to consolidate categories\n",
    "\n",
    "data['Purpose'] = data['Purpose'].replace({\"other\": \"Other\",\n",
    "                                           \"Home Improvements\": \"Personal\",\n",
    "                                           \"Buy House\": \"Personal\",\n",
    "                                           \"Business Loan\": \"Personal\",\n",
    "                                           \"Buy a Car\": \"Personal\",\n",
    "                                          \"major_purchase\": \"Personal\",\n",
    "                                          \"Take a Trip\": \"Personal\",\n",
    "                                          \"small_business\": \"Personal\",\n",
    "                                          \"Medical Bills\": \"Personal\",\n",
    "                                          \"wedding\": \"Personal\",\n",
    "                                          \"vacation\": \"Personal\",\n",
    "                                          \"Educational Expenses\": \"Personal\",\n",
    "                                          \"moving\": \"Personal\",\n",
    "                                          \"renewable_energy\": \"Personal\"\n",
    "                                          })"
   ]
  },
  {
   "cell_type": "code",
   "execution_count": 16,
   "id": "8dfcda0c",
   "metadata": {},
   "outputs": [
    {
     "data": {
      "text/plain": [
       "array(['Personal', 'Debt Consolidation', 'Other'], dtype=object)"
      ]
     },
     "execution_count": 16,
     "metadata": {},
     "output_type": "execute_result"
    }
   ],
   "source": [
    "# Confirm changes\n",
    "\n",
    "data['Purpose'].unique()"
   ]
  },
  {
   "cell_type": "code",
   "execution_count": 17,
   "id": "5717621b",
   "metadata": {},
   "outputs": [
    {
     "data": {
      "text/plain": [
       "Years in current job\n",
       "10+ years    31121\n",
       "2 years       9134\n",
       "3 years       8169\n",
       "< 1 year      8164\n",
       "5 years       6787\n",
       "1 year        6460\n",
       "4 years       6143\n",
       "6 years       5686\n",
       "7 years       5577\n",
       "8 years       4582\n",
       "9 years       3955\n",
       "Name: count, dtype: int64"
      ]
     },
     "execution_count": 17,
     "metadata": {},
     "output_type": "execute_result"
    }
   ],
   "source": [
    "# Number of loan applicant by Years in current Job \n",
    "\n",
    "data['Years in current job'].value_counts()"
   ]
  },
  {
   "cell_type": "code",
   "execution_count": 18,
   "id": "a09f24da",
   "metadata": {},
   "outputs": [],
   "source": [
    "# fill missing values with the year with highest values +10 years \n",
    "\n",
    "data['Years in current job'].fillna('10+ years', inplace = True)"
   ]
  },
  {
   "cell_type": "code",
   "execution_count": 19,
   "id": "2afde980",
   "metadata": {},
   "outputs": [
    {
     "data": {
      "text/plain": [
       "Loan Status                  0\n",
       "Current Loan Amount          0\n",
       "Term                         0\n",
       "Credit Score                 0\n",
       "Annual Income                0\n",
       "Years in current job         0\n",
       "Home Ownership               0\n",
       "Purpose                      0\n",
       "Monthly Debt                 0\n",
       "Years of Credit History      0\n",
       "Number of Open Accounts      0\n",
       "Number of Credit Problems    0\n",
       "Current Credit Balance       0\n",
       "Maximum Open Credit          0\n",
       "Bankruptcies                 0\n",
       "Tax Liens                    0\n",
       "dtype: int64"
      ]
     },
     "execution_count": 19,
     "metadata": {},
     "output_type": "execute_result"
    }
   ],
   "source": [
    "data.isna().sum()"
   ]
  },
  {
   "cell_type": "code",
   "execution_count": 20,
   "id": "62dfa1c3",
   "metadata": {},
   "outputs": [
    {
     "data": {
      "text/plain": [
       "10215"
      ]
     },
     "execution_count": 20,
     "metadata": {},
     "output_type": "execute_result"
    }
   ],
   "source": [
    "# Count the total number of duplicate rows\n",
    "\n",
    "data.duplicated().sum()"
   ]
  },
  {
   "cell_type": "code",
   "execution_count": 21,
   "id": "6f392c6c",
   "metadata": {},
   "outputs": [],
   "source": [
    "# Drop duplicate rows\n",
    "\n",
    "data = data.drop_duplicates()"
   ]
  },
  {
   "cell_type": "code",
   "execution_count": 22,
   "id": "89e909e2",
   "metadata": {},
   "outputs": [
    {
     "data": {
      "text/plain": [
       "0"
      ]
     },
     "execution_count": 22,
     "metadata": {},
     "output_type": "execute_result"
    }
   ],
   "source": [
    "# confirm changes\n",
    "\n",
    "data.duplicated().sum()"
   ]
  },
  {
   "cell_type": "code",
   "execution_count": 23,
   "id": "79a6cabf",
   "metadata": {},
   "outputs": [
    {
     "data": {
      "text/plain": [
       "(89785, 16)"
      ]
     },
     "execution_count": 23,
     "metadata": {},
     "output_type": "execute_result"
    }
   ],
   "source": [
    "# Display the number of rows and columns\n",
    "\n",
    "data.shape"
   ]
  },
  {
   "cell_type": "markdown",
   "id": "57dbdb91",
   "metadata": {},
   "source": [
    "#### Check class balance"
   ]
  },
  {
   "cell_type": "markdown",
   "id": "270af82f",
   "metadata": {},
   "source": [
    "Next, we have to check the class balance in the target variable, **Loan Status**. "
   ]
  },
  {
   "cell_type": "code",
   "execution_count": 25,
   "id": "8ae2fd79",
   "metadata": {},
   "outputs": [
    {
     "data": {
      "text/plain": [
       "Loan Status\n",
       "Fully Paid     74.78532\n",
       "Charged Off    25.21468\n",
       "Name: proportion, dtype: float64"
      ]
     },
     "execution_count": 25,
     "metadata": {},
     "output_type": "execute_result"
    }
   ],
   "source": [
    "# Display percentage(%) of values for each class represented in the target column of the dataset.\n",
    "\n",
    "data['Loan Status'].value_counts(normalize=True)*100"
   ]
  },
  {
   "cell_type": "markdown",
   "id": "67a2a7e0",
   "metadata": {},
   "source": [
    "The dataset is not perfectly balanced, with approximately 74.79% of loan being **fully paid** and  25.21% being **charged off**.\n",
    "50-50 split is a rare occurance in datasets, and a 75 - 25 split is not too imbalanced. However, if the majority class made up 90% or more of the dataset, then that would be of concern, and it would be necessary to address that issue through techniques oversampling the minority and undersampling the majority class."
   ]
  },
  {
   "cell_type": "markdown",
   "id": "b3e30fb9",
   "metadata": {},
   "source": [
    "#### Encode categorical variables"
   ]
  },
  {
   "cell_type": "code",
   "execution_count": 26,
   "id": "574f2ca6",
   "metadata": {},
   "outputs": [],
   "source": [
    "# Convert 'Loan Status' column to binary values (0 and 1) \n",
    "data['Loan Status'] = data['Loan Status'].replace({'Fully Paid': 1, 'Charged Off': 0})\n",
    "\n",
    "# Ensure the column is saved as integer type\n",
    "data['Loan Status'] = data['Loan Status'].astype(int)"
   ]
  },
  {
   "cell_type": "code",
   "execution_count": 27,
   "id": "450c5ef2",
   "metadata": {},
   "outputs": [],
   "source": [
    "# Categorical predictor variable encoding\n",
    "\n",
    "from sklearn.preprocessing import LabelEncoder, StandardScaler\n",
    "label_encoder = LabelEncoder()\n",
    "\n",
    "# Encoding 'Term'\n",
    "data['Term'] = label_encoder.fit_transform(data['Term'])\n",
    "\n",
    "# Encoding 'Years in current job'\n",
    "data['Years in current job'] = label_encoder.fit_transform(data['Years in current job'])\n",
    "\n",
    "# Encoding 'Home Ownership'\n",
    "data['Home Ownership'] = label_encoder.fit_transform(data['Home Ownership'])\n",
    "\n",
    "# Encoding 'Purpose'\n",
    "data['Purpose'] = label_encoder.fit_transform(data['Purpose'])"
   ]
  },
  {
   "cell_type": "markdown",
   "id": "5330fcc0",
   "metadata": {},
   "source": [
    "####  Feature Scaling"
   ]
  },
  {
   "cell_type": "code",
   "execution_count": 28,
   "id": "ac203d38",
   "metadata": {},
   "outputs": [],
   "source": [
    "\n",
    "# Standardizing the numeric features to have zero mean and 1 standard deviation \n",
    "\n",
    "scaling_columns = ['Current Loan Amount', 'Credit Score', 'Annual Income',  'Monthly Debt',\n",
    "                   'Years of Credit History','Number of Open Accounts', 'Current Credit Balance',\n",
    "                  'Maximum Open Credit']\n",
    "\n",
    "from sklearn.preprocessing import StandardScaler\n",
    "sc = StandardScaler()\n",
    "data[scaling_columns] = sc.fit_transform(data[scaling_columns])"
   ]
  },
  {
   "cell_type": "code",
   "execution_count": 29,
   "id": "82f05e9d",
   "metadata": {},
   "outputs": [
    {
     "data": {
      "text/html": [
       "<div>\n",
       "<style scoped>\n",
       "    .dataframe tbody tr th:only-of-type {\n",
       "        vertical-align: middle;\n",
       "    }\n",
       "\n",
       "    .dataframe tbody tr th {\n",
       "        vertical-align: top;\n",
       "    }\n",
       "\n",
       "    .dataframe thead th {\n",
       "        text-align: right;\n",
       "    }\n",
       "</style>\n",
       "<table border=\"1\" class=\"dataframe\">\n",
       "  <thead>\n",
       "    <tr style=\"text-align: right;\">\n",
       "      <th></th>\n",
       "      <th>Loan Status</th>\n",
       "      <th>Current Loan Amount</th>\n",
       "      <th>Term</th>\n",
       "      <th>Credit Score</th>\n",
       "      <th>Annual Income</th>\n",
       "      <th>Years in current job</th>\n",
       "      <th>Home Ownership</th>\n",
       "      <th>Purpose</th>\n",
       "      <th>Monthly Debt</th>\n",
       "      <th>Years of Credit History</th>\n",
       "      <th>Number of Open Accounts</th>\n",
       "      <th>Number of Credit Problems</th>\n",
       "      <th>Current Credit Balance</th>\n",
       "      <th>Maximum Open Credit</th>\n",
       "      <th>Bankruptcies</th>\n",
       "      <th>Tax Liens</th>\n",
       "    </tr>\n",
       "  </thead>\n",
       "  <tbody>\n",
       "    <tr>\n",
       "      <th>0</th>\n",
       "      <td>1</td>\n",
       "      <td>-0.378896</td>\n",
       "      <td>1</td>\n",
       "      <td>-0.294370</td>\n",
       "      <td>-0.213187</td>\n",
       "      <td>8</td>\n",
       "      <td>0</td>\n",
       "      <td>2</td>\n",
       "      <td>-1.085379</td>\n",
       "      <td>-0.149070</td>\n",
       "      <td>-1.024884</td>\n",
       "      <td>1.0</td>\n",
       "      <td>-0.176896</td>\n",
       "      <td>-0.040768</td>\n",
       "      <td>1.0</td>\n",
       "      <td>0.0</td>\n",
       "    </tr>\n",
       "    <tr>\n",
       "      <th>1</th>\n",
       "      <td>1</td>\n",
       "      <td>-0.384395</td>\n",
       "      <td>1</td>\n",
       "      <td>-0.030694</td>\n",
       "      <td>0.001912</td>\n",
       "      <td>1</td>\n",
       "      <td>0</td>\n",
       "      <td>0</td>\n",
       "      <td>1.226744</td>\n",
       "      <td>0.405335</td>\n",
       "      <td>4.776443</td>\n",
       "      <td>0.0</td>\n",
       "      <td>-0.172098</td>\n",
       "      <td>0.008536</td>\n",
       "      <td>0.0</td>\n",
       "      <td>0.0</td>\n",
       "    </tr>\n",
       "    <tr>\n",
       "      <th>2</th>\n",
       "      <td>1</td>\n",
       "      <td>2.611147</td>\n",
       "      <td>1</td>\n",
       "      <td>-0.271408</td>\n",
       "      <td>0.873007</td>\n",
       "      <td>8</td>\n",
       "      <td>1</td>\n",
       "      <td>0</td>\n",
       "      <td>0.889537</td>\n",
       "      <td>-0.476027</td>\n",
       "      <td>1.375665</td>\n",
       "      <td>1.0</td>\n",
       "      <td>0.010641</td>\n",
       "      <td>-0.002902</td>\n",
       "      <td>0.0</td>\n",
       "      <td>0.0</td>\n",
       "    </tr>\n",
       "    <tr>\n",
       "      <th>3</th>\n",
       "      <td>1</td>\n",
       "      <td>-0.381832</td>\n",
       "      <td>0</td>\n",
       "      <td>-0.285759</td>\n",
       "      <td>-0.581114</td>\n",
       "      <td>3</td>\n",
       "      <td>1</td>\n",
       "      <td>0</td>\n",
       "      <td>-0.794964</td>\n",
       "      <td>-0.888277</td>\n",
       "      <td>-0.424747</td>\n",
       "      <td>0.0</td>\n",
       "      <td>-0.101299</td>\n",
       "      <td>-0.044151</td>\n",
       "      <td>0.0</td>\n",
       "      <td>0.0</td>\n",
       "    </tr>\n",
       "    <tr>\n",
       "      <th>4</th>\n",
       "      <td>1</td>\n",
       "      <td>-0.386981</td>\n",
       "      <td>1</td>\n",
       "      <td>-0.030694</td>\n",
       "      <td>0.001912</td>\n",
       "      <td>5</td>\n",
       "      <td>2</td>\n",
       "      <td>0</td>\n",
       "      <td>0.184665</td>\n",
       "      <td>-1.726992</td>\n",
       "      <td>0.775527</td>\n",
       "      <td>0.0</td>\n",
       "      <td>-0.109007</td>\n",
       "      <td>-0.039583</td>\n",
       "      <td>0.0</td>\n",
       "      <td>0.0</td>\n",
       "    </tr>\n",
       "  </tbody>\n",
       "</table>\n",
       "</div>"
      ],
      "text/plain": [
       "   Loan Status  Current Loan Amount  Term  Credit Score  Annual Income  \\\n",
       "0            1            -0.378896     1     -0.294370      -0.213187   \n",
       "1            1            -0.384395     1     -0.030694       0.001912   \n",
       "2            1             2.611147     1     -0.271408       0.873007   \n",
       "3            1            -0.381832     0     -0.285759      -0.581114   \n",
       "4            1            -0.386981     1     -0.030694       0.001912   \n",
       "\n",
       "   Years in current job  Home Ownership  Purpose  Monthly Debt  \\\n",
       "0                     8               0        2     -1.085379   \n",
       "1                     1               0        0      1.226744   \n",
       "2                     8               1        0      0.889537   \n",
       "3                     3               1        0     -0.794964   \n",
       "4                     5               2        0      0.184665   \n",
       "\n",
       "   Years of Credit History  Number of Open Accounts  \\\n",
       "0                -0.149070                -1.024884   \n",
       "1                 0.405335                 4.776443   \n",
       "2                -0.476027                 1.375665   \n",
       "3                -0.888277                -0.424747   \n",
       "4                -1.726992                 0.775527   \n",
       "\n",
       "   Number of Credit Problems  Current Credit Balance  Maximum Open Credit  \\\n",
       "0                        1.0               -0.176896            -0.040768   \n",
       "1                        0.0               -0.172098             0.008536   \n",
       "2                        1.0                0.010641            -0.002902   \n",
       "3                        0.0               -0.101299            -0.044151   \n",
       "4                        0.0               -0.109007            -0.039583   \n",
       "\n",
       "   Bankruptcies  Tax Liens  \n",
       "0           1.0        0.0  \n",
       "1           0.0        0.0  \n",
       "2           0.0        0.0  \n",
       "3           0.0        0.0  \n",
       "4           0.0        0.0  "
      ]
     },
     "execution_count": 29,
     "metadata": {},
     "output_type": "execute_result"
    }
   ],
   "source": [
    "data.head()"
   ]
  },
  {
   "cell_type": "markdown",
   "id": "13714329",
   "metadata": {},
   "source": [
    "## Splitting data\n",
    "\n",
    "We’ve prepared our data and we’re ready to model. There’s one last step before we can begin. We\n",
    "must split the data into features and target variable, and into training data and test data. We do\n",
    "this using the train_test_split() function. We’ll put 20% of the data into our test set, and use\n",
    "the remaining 80% to train the model."
   ]
  },
  {
   "cell_type": "code",
   "execution_count": 30,
   "id": "e11aae3b",
   "metadata": {},
   "outputs": [],
   "source": [
    "# Define the y variable\n",
    "\n",
    "y = data['Loan Status']\n",
    "\n",
    "# Define x variable\n",
    "\n",
    "x = data.copy()\n",
    "x = x.drop('Loan Status', axis=1)\n",
    "\n",
    "# split into training and holdout datasets\n",
    "\n",
    "x_train, x_test, y_train, y_test = train_test_split(x, y, test_size = 0.2, stratify=y, random_state = 42)  "
   ]
  },
  {
   "cell_type": "code",
   "execution_count": 31,
   "id": "0c38afda",
   "metadata": {},
   "outputs": [
    {
     "name": "stdout",
     "output_type": "stream",
     "text": [
      "(71828, 15)\n",
      "(17957, 15)\n",
      "(71828,)\n",
      "(17957,)\n"
     ]
    }
   ],
   "source": [
    "# Display the shape (rows, columns) of the output from the train-test split.\n",
    "\n",
    "# Print the shape of x_train.\n",
    "\n",
    "print(x_train.shape)\n",
    "# Print the shape of x_test.\n",
    "\n",
    "print(x_test.shape)\n",
    "# Print the shape of y_train.\n",
    "\n",
    "print(y_train.shape)\n",
    "# Print the shape of y_test.\n",
    "\n",
    "print(y_test.shape)\n"
   ]
  },
  {
   "cell_type": "markdown",
   "id": "3a89e55e",
   "metadata": {},
   "source": [
    "##  Model Building"
   ]
  },
  {
   "cell_type": "code",
   "execution_count": 32,
   "id": "87100312",
   "metadata": {},
   "outputs": [],
   "source": [
    "#  Train logistic regression model\n",
    "\n",
    "clf = LogisticRegression().fit(x_train,y_train)"
   ]
  },
  {
   "cell_type": "code",
   "execution_count": 33,
   "id": "4804d44d",
   "metadata": {},
   "outputs": [
    {
     "name": "stdout",
     "output_type": "stream",
     "text": [
      "[1 1 0 ... 1 1 1]\n"
     ]
    }
   ],
   "source": [
    "# predict on test data\n",
    "\n",
    "y_pred = clf.predict(x_test)\n",
    "\n",
    "print(y_pred)"
   ]
  },
  {
   "cell_type": "code",
   "execution_count": 34,
   "id": "9f65b966",
   "metadata": {},
   "outputs": [
    {
     "data": {
      "text/plain": [
       "array([[3.35453128e-04, 9.99664547e-01],\n",
       "       [1.97241147e-01, 8.02758853e-01],\n",
       "       [9.98048224e-01, 1.95177618e-03],\n",
       "       ...,\n",
       "       [2.28189540e-01, 7.71810460e-01],\n",
       "       [1.72287478e-01, 8.27712522e-01],\n",
       "       [1.64485527e-04, 9.99835514e-01]])"
      ]
     },
     "execution_count": 34,
     "metadata": {},
     "output_type": "execute_result"
    }
   ],
   "source": [
    "# Use predict_proba to output a probability.\n",
    "\n",
    "clf.predict_proba(x_test)"
   ]
  },
  {
   "cell_type": "markdown",
   "id": "45f07b13",
   "metadata": {},
   "source": [
    "## Model Evaluation"
   ]
  },
  {
   "cell_type": "code",
   "execution_count": 35,
   "id": "bb0d0e36",
   "metadata": {},
   "outputs": [
    {
     "name": "stdout",
     "output_type": "stream",
     "text": [
      "Accuracy: 0.800078\n",
      "Precision: 0.789809\n",
      "Recall: 0.998362\n",
      "F1 Score: 0.881923\n"
     ]
    }
   ],
   "source": [
    "#  Evaluate model performance\n",
    "\n",
    "print(\"Accuracy:\", \"%.6f\" % metrics.accuracy_score(y_test, y_pred))\n",
    "print(\"Precision:\", \"%.6f\" % metrics.precision_score(y_test, y_pred))\n",
    "print(\"Recall:\", \"%.6f\" % metrics.recall_score(y_test, y_pred))\n",
    "print(\"F1 Score:\", \"%.6f\" % metrics.f1_score(y_test, y_pred))"
   ]
  },
  {
   "cell_type": "markdown",
   "id": "7140d83f",
   "metadata": {},
   "source": [
    "**Accuracy:** The model correctly predicts 80.01% of all loan outcomes, whether they are fully paid or charged off.\n",
    "\n",
    "**Precision:** Out of all the loans predicted as \"Fully Piad,\" 78.98% were actually Fully Paid. \n",
    "\n",
    "**Recall:** The model successfully identifies 99.84% of all loans that were actually charged off.\n",
    "\n",
    "**F1 Score:**  F1 score of 88.19% indicates the model performs well in both precision and recall."
   ]
  },
  {
   "cell_type": "markdown",
   "id": "7374debd",
   "metadata": {},
   "source": [
    "#### Confusion matrix "
   ]
  },
  {
   "cell_type": "markdown",
   "id": "0634fe56",
   "metadata": {},
   "source": [
    "The confusion matrix below illustrates how accurate the logistic regression model is at predicting loan outcomes."
   ]
  },
  {
   "cell_type": "code",
   "execution_count": 36,
   "id": "1c158fa7",
   "metadata": {},
   "outputs": [
    {
     "data": {
      "text/plain": [
       "<sklearn.metrics._plot.confusion_matrix.ConfusionMatrixDisplay at 0x17c0ff87710>"
      ]
     },
     "execution_count": 36,
     "metadata": {},
     "output_type": "execute_result"
    },
    {
     "data": {
      "image/png": "[encoded data removed]",
      "text/plain": [
       "<Figure size 640x480 with 2 Axes>"
      ]
     },
     "metadata": {},
     "output_type": "display_data"
    }
   ],
   "source": [
    "#  Plot confusion matrix\n",
    "\n",
    "cm = metrics.confusion_matrix(y_test, y_pred, labels = clf.classes_)\n",
    "disp = metrics.ConfusionMatrixDisplay(confusion_matrix = cm,display_labels = clf.classes_)\n",
    "disp.plot()"
   ]
  },
  {
   "cell_type": "markdown",
   "id": "88ac3a3c",
   "metadata": {},
   "source": [
    "**True Negatives(960):** Loans that were correctly predicted as Charged Off loans.\n",
    "\n",
    "**False Negative(22):** missed Charged Off loans(predicted as Fully Paid).\n",
    "\n",
    "**False Positive(3568):** actually Fully paid loans(predicted as Charged Off).\n",
    "\n",
    "**True Positive(13407):** Loans that were correctly predicted as Fully Paid loans."
   ]
  },
  {
   "cell_type": "markdown",
   "id": "4a9342d9",
   "metadata": {},
   "source": [
    "#### ROC curve"
   ]
  },
  {
   "cell_type": "markdown",
   "id": "9d19dde9",
   "metadata": {},
   "source": [
    "Receiver Operating Characteristic(ROC) curve helps in visualizing the performance of the logistic regressiom classifier.it is a plot of the true positive rate against the false positive rate. "
   ]
  },
  {
   "cell_type": "code",
   "execution_count": 37,
   "id": "3709790c",
   "metadata": {},
   "outputs": [
    {
     "data": {
      "image/png": "[encoded data removed]",
      "text/plain": [
       "<Figure size 640x480 with 1 Axes>"
      ]
     },
     "metadata": {},
     "output_type": "display_data"
    }
   ],
   "source": [
    "# Plot ROC curve\n",
    "\n",
    "y_pred_proba = clf.predict_proba(x_test)[::,1]\n",
    "fpr, tpr, _ = metrics.roc_curve(y_test,  y_pred_proba)\n",
    "auc = metrics.roc_auc_score(y_test, y_pred_proba)\n",
    "plt.plot(fpr,tpr,label=\"data , auc=\"+str(auc))\n",
    "plt.legend(loc=4)\n",
    "plt.show()"
   ]
  },
  {
   "cell_type": "markdown",
   "id": "4fef4324",
   "metadata": {},
   "source": [
    "##  Conclusion"
   ]
  },
  {
   "cell_type": "markdown",
   "id": "22eccd52",
   "metadata": {},
   "source": [
    "The logistic regression model created demonstrates moderate effectiveness in predicting loan status, specifically identifying loans that are likely to be Fully Paid or Charged Off.\n",
    "Notably, the model performed better at predicting true negatives (actual Charged Off loans)  with a recall rate of 99.84%, indicating its ability to accurately identify loans that would likely result in default."
   ]
  }
 ],
 "metadata": {
  "kernelspec": {
   "display_name": "Python 3 (ipykernel)",
   "language": "python",
   "name": "python3"
  },
  "language_info": {
   "codemirror_mode": {
    "name": "ipython",
    "version": 3
   },
   "file_extension": ".py",
   "mimetype": "text/x-python",
   "name": "python",
   "nbconvert_exporter": "python",
   "pygments_lexer": "ipython3",
   "version": "3.11.5"
  }
 },
 "nbformat": 4,
 "nbformat_minor": 5
}
